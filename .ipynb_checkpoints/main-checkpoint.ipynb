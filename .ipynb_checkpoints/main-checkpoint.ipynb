{
 "cells": [
  {
   "cell_type": "code",
   "execution_count": 1,
   "metadata": {},
   "outputs": [],
   "source": [
    "import pandas as pd\n",
    "import numpy as np\n",
    "import matplotlib.pyplot as plt\n",
    "from datetime import timedelta\n",
    "from datetime import time as datetime_time\n",
    "plt.style.use('seaborn-whitegrid')"
   ]
  },
  {
   "cell_type": "code",
   "execution_count": 2,
   "metadata": {},
   "outputs": [],
   "source": [
    "# = pd.DataFrame(columns=['date', 'washers', 'dryers'])\n",
    "#raw_data.read_csv(\"./both\", header=None)\n",
    "\n",
    "headers = ['datetime', 'wash', 'dry']\n",
    "dtypes = {'datetime': 'str', 'wash': 'int', 'dry': 'int'}\n",
    "parse_dates = ['datetime']\n",
    "raw_data = pd.read_csv(\"./data\", sep=',', header=None, names=headers, dtype=dtypes, parse_dates=parse_dates, date_parser=pd.to_datetime)\n",
    "#print(raw_data.dtypes)\n",
    "#print(raw_data)"
   ]
  },
  {
   "cell_type": "code",
   "execution_count": 3,
   "metadata": {},
   "outputs": [],
   "source": [
    "def shift_forward(data):\n",
    "    local_data=data.copy()\n",
    "    local_data['datetime'] = [time + timedelta(hours=4) for time in local_data['datetime']]\n",
    "    return local_data\n",
    "\n",
    "def shift_back(data):\n",
    "    local_data=data.copy()\n",
    "    local_data['datetime'] = [time + timedelta(hours=-4) for time in local_data['datetime']]\n",
    "    return local_data\n",
    "    \n",
    "shifted_data = shift_forward(shift_back(raw_data))\n",
    "#print(shifted_data)"
   ]
  },
  {
   "cell_type": "code",
   "execution_count": 4,
   "metadata": {},
   "outputs": [],
   "source": [
    "def get_by_months(data):\n",
    "    return[g.reset_index() for n, g in data.set_index('datetime').groupby(pd.Grouper(freq='M'))]\n",
    "\n",
    "months = get_by_months(raw_data)\n",
    "#print(pd.concat(months[1:3]))"
   ]
  },
  {
   "cell_type": "code",
   "execution_count": 5,
   "metadata": {},
   "outputs": [],
   "source": [
    "def get_weekdays(data):\n",
    "    return data[data.set_index('datetime').index.dayofweek < 5]\n",
    "\n",
    "def get_weekends(data):\n",
    "    return data[data.set_index('datetime').index.dayofweek >= 5]\n",
    "\n",
    "#print(get_weekdays(months[1]))\n",
    "#print(get_weekends(months[1]))"
   ]
  },
  {
   "cell_type": "code",
   "execution_count": 6,
   "metadata": {},
   "outputs": [],
   "source": [
    "def average_range(data):\n",
    "    local_data=data.copy()\n",
    "    local_data['datetime'] = [time.floor(\"5min\").time() for time in local_data['datetime']]\n",
    "    return local_data.set_index('datetime').groupby('datetime').mean().reset_index()\n",
    "\n",
    "#print(average_range(months[1]))"
   ]
  },
  {
   "cell_type": "code",
   "execution_count": 7,
   "metadata": {},
   "outputs": [],
   "source": [
    "def shift_time_forward(data):\n",
    "    local_data=data.copy()\n",
    "    local_data['datetime'] = [datetime_time((time.hour + 4)%24, time.minute) for time in local_data['datetime']]\n",
    "    return local_data\n",
    "\n",
    "def make_pretty(data_ref):\n",
    "    data = data_ref.copy()\n",
    "    data.names = [\"Time\", \"Washers Available\", \"Dryers Available\"]\n",
    "\n",
    "def plot_data(data_ref, title, filename):\n",
    "    data = data_ref.copy()\n",
    "    data['int_index'] = range(len(data))\n",
    "    ticks=[time.time() for time in pd.date_range(start='1/1/2018 4:00', end='1/3/2018', freq='4H')]\n",
    "    tickss=[tick.strftime(\"%H:%M\") for tick in ticks]\n",
    "    ax = data.plot(x=\"datetime\", y=[\"wash\", \"dry\"], figsize=(12, 6), xticks=ticks, title=title)\n",
    "    ax.set_xticklabels(tickss)\n",
    "    ax.legend([\"Washers Available\", \"Dryers Available\"])\n",
    "    ax.set_xlabel(\"Time\")\n",
    "    fig = ax.get_figure()\n",
    "    fig.savefig(\"plots/\"+filename)\n",
    "    plt.close(fig)\n",
    "\n",
    "\n",
    "#plot_data(average_range(get_weekdays(get_by_months(shift_back(raw_data))[1])), \"Weekdays Jan 2019\")"
   ]
  },
  {
   "cell_type": "code",
   "execution_count": 8,
   "metadata": {},
   "outputs": [],
   "source": [
    "def process_range(data, label, prefix):\n",
    "    plot_data(average_range(get_weekdays(data)), \"Weekdays \" + label, prefix + \"_weekday_\" + label.replace(\" \", \"_\").lower() + \".png\")\n",
    "    plot_data(average_range(get_weekends(data)), \"Weekend \" + label, prefix + \"_weekend_\" + label.replace(\" \", \"_\").lower() + \".png\")"
   ]
  },
  {
   "cell_type": "code",
   "execution_count": 9,
   "metadata": {},
   "outputs": [],
   "source": [
    "months = get_by_months(shift_back(raw_data))[1:]"
   ]
  },
  {
   "cell_type": "code",
   "execution_count": 10,
   "metadata": {},
   "outputs": [],
   "source": [
    "for month in months:\n",
    "    title = month['datetime'][0].strftime(\"%B %Y\")\n",
    "    m = month['datetime'][0].month\n",
    "    y = month['datetime'][0].year\n",
    "    pref = str(y) + \".\" + str(m).zfill(2)\n",
    "    process_range(month, title, pref)"
   ]
  },
  {
   "cell_type": "code",
   "execution_count": null,
   "metadata": {},
   "outputs": [],
   "source": [
    "process_range(shift_back(raw_data), \"all time Average\", \"0.0\")"
   ]
  }
 ],
 "metadata": {
  "kernelspec": {
   "display_name": "my-virtualenv-name",
   "language": "python",
   "name": "my-virtualenv-name"
  },
  "language_info": {
   "codemirror_mode": {
    "name": "ipython",
    "version": 3
   },
   "file_extension": ".py",
   "mimetype": "text/x-python",
   "name": "python",
   "nbconvert_exporter": "python",
   "pygments_lexer": "ipython3",
   "version": "3.8.5"
  }
 },
 "nbformat": 4,
 "nbformat_minor": 4
}
